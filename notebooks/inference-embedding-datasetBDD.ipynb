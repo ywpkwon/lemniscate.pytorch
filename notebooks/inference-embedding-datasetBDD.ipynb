{
 "cells": [
  {
   "cell_type": "code",
   "execution_count": 1,
   "metadata": {},
   "outputs": [],
   "source": [
    "import sys\n",
    "sys.path.append('..')\n",
    "\n",
    "import os\n",
    "import json\n",
    "import glob\n",
    "import pickle\n",
    "import imageio\n",
    "import matplotlib.pyplot as plt\n",
    "import numpy as np \n",
    "import cv2 \n",
    "from easydict import EasyDict as edict\n",
    "from tqdm.notebook import tqdm\n",
    "\n",
    "from image_embedder import get_model, inference_embeddings"
   ]
  },
  {
   "cell_type": "code",
   "execution_count": 2,
   "metadata": {},
   "outputs": [
    {
     "data": {
      "text/plain": [
       "70000"
      ]
     },
     "execution_count": 2,
     "metadata": {},
     "output_type": "execute_result"
    }
   ],
   "source": [
    "img_path_list = sorted(glob.glob('/media/paul/artificial/data/bdd100k/images/100k/train/*'))\n",
    "\n",
    "\n",
    "len(img_path_list)"
   ]
  },
  {
   "cell_type": "code",
   "execution_count": 3,
   "metadata": {},
   "outputs": [
    {
     "name": "stdout",
     "output_type": "stream",
     "text": [
      "=> loading checkpoint '../checkpoint.pth.tar'\n"
     ]
    },
    {
     "name": "stderr",
     "output_type": "stream",
     "text": [
      "\r",
      "  0%|          | 0/70000 [00:00<?, ?it/s]"
     ]
    },
    {
     "name": "stdout",
     "output_type": "stream",
     "text": [
      "=> loaded checkpoint (epoch 200)\n"
     ]
    },
    {
     "name": "stderr",
     "output_type": "stream",
     "text": [
      "100%|██████████| 70000/70000 [51:51<00:00, 22.50it/s]  \n"
     ]
    }
   ],
   "source": [
    "args = edict({\n",
    "    'batch-size': 16,\n",
    "    'checkpoint': '../checkpoint.pth.tar',\n",
    "    'arch': 'resnet18'\n",
    "})\n",
    "\n",
    "model = get_model(args)\n",
    "model.eval()\n",
    "\n",
    "# cudnn.benchmark = True\n",
    "\n",
    "entire_features = inference_embeddings(model, img_path_list)"
   ]
  },
  {
   "cell_type": "code",
   "execution_count": 4,
   "metadata": {},
   "outputs": [],
   "source": [
    "with open('embedding-set-BDD.pkl', 'wb') as f:\n",
    "    pickle.dump(\n",
    "        {'paths': img_path_list,\n",
    "         'features': entire_features}, f)"
   ]
  },
  {
   "cell_type": "code",
   "execution_count": null,
   "metadata": {},
   "outputs": [],
   "source": []
  }
 ],
 "metadata": {
  "kernelspec": {
   "display_name": "torch14",
   "language": "python",
   "name": "torch14"
  },
  "language_info": {
   "codemirror_mode": {
    "name": "ipython",
    "version": 3
   },
   "file_extension": ".py",
   "mimetype": "text/x-python",
   "name": "python",
   "nbconvert_exporter": "python",
   "pygments_lexer": "ipython3",
   "version": "3.6.9"
  }
 },
 "nbformat": 4,
 "nbformat_minor": 5
}

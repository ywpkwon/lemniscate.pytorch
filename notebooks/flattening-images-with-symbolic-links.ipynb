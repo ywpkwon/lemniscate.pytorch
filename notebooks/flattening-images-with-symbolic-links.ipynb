{
 "cells": [
  {
   "cell_type": "code",
   "execution_count": 1,
   "metadata": {},
   "outputs": [
    {
     "data": {
      "application/vnd.jupyter.widget-view+json": {
       "model_id": "93faaf1a45074cd3bba9659e7459a154",
       "version_major": 2,
       "version_minor": 0
      },
      "text/plain": [
       "HBox(children=(HTML(value=''), FloatProgress(value=0.0, max=1.0), HTML(value='')))"
      ]
     },
     "metadata": {},
     "output_type": "display_data"
    },
    {
     "name": "stdout",
     "output_type": "stream",
     "text": [
      "\n"
     ]
    }
   ],
   "source": [
    "import os\n",
    "import glob\n",
    "from tqdm.notebook import tqdm\n",
    "\n",
    "data_in = '/media/paul/artificial/data/phantom/ros-sparse-thumbnails/images'\n",
    "data_out = '/media/paul/artificial/data/phantom/ros-sparse-thumbnails/images-flatten-links/train'\n",
    "\n",
    "entire_images = []\n",
    "car_dirs = sorted(glob.glob(os.path.join(data_in, '*')))\n",
    "for car_dir in tqdm(car_dirs):\n",
    "    session_dirs = sorted(glob.glob(os.path.join(car_dir, '*')))\n",
    "    for session_dir in session_dirs:\n",
    "        imagefs = sorted(glob.glob(os.path.join(session_dir, '*')))\n",
    "        entire_images += imagefs"
   ]
  },
  {
   "cell_type": "code",
   "execution_count": 2,
   "metadata": {},
   "outputs": [
    {
     "data": {
      "text/plain": [
       "82234"
      ]
     },
     "execution_count": 2,
     "metadata": {},
     "output_type": "execute_result"
    }
   ],
   "source": [
    "len(entire_images)"
   ]
  },
  {
   "cell_type": "code",
   "execution_count": 4,
   "metadata": {},
   "outputs": [
    {
     "data": {
      "application/vnd.jupyter.widget-view+json": {
       "model_id": "aa80da1b79e94f68948e86e3bafa9898",
       "version_major": 2,
       "version_minor": 0
      },
      "text/plain": [
       "HBox(children=(HTML(value=''), FloatProgress(value=0.0, max=82234.0), HTML(value='')))"
      ]
     },
     "metadata": {},
     "output_type": "display_data"
    },
    {
     "name": "stdout",
     "output_type": "stream",
     "text": [
      "\n"
     ]
    }
   ],
   "source": [
    "for imagef in tqdm(entire_images):\n",
    "    targetf = os.path.join(data_out, os.path.basename(imagef))\n",
    "    if not os.path.isfile(targetf):\n",
    "        command = f'ln -s {imagef} {targetf}'\n",
    "        os.system(command)"
   ]
  },
  {
   "cell_type": "code",
   "execution_count": null,
   "metadata": {},
   "outputs": [],
   "source": []
  }
 ],
 "metadata": {
  "kernelspec": {
   "display_name": "torch14",
   "language": "python",
   "name": "torch14"
  },
  "language_info": {
   "codemirror_mode": {
    "name": "ipython",
    "version": 3
   },
   "file_extension": ".py",
   "mimetype": "text/x-python",
   "name": "python",
   "nbconvert_exporter": "python",
   "pygments_lexer": "ipython3",
   "version": "3.6.9"
  }
 },
 "nbformat": 4,
 "nbformat_minor": 2
}
